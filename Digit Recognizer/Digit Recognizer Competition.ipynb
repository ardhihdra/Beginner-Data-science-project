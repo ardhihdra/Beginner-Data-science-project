{
 "cells": [
  {
   "cell_type": "code",
   "execution_count": 1,
   "metadata": {},
   "outputs": [],
   "source": [
    "## Digit Recognizer"
   ]
  },
  {
   "cell_type": "code",
   "execution_count": 82,
   "metadata": {},
   "outputs": [],
   "source": [
    "import numpy as np\n",
    "import pandas as pd\n",
    "import matplotlib.pyplot as plt\n",
    "\n",
    "#DL liblary\n",
    "import keras\n",
    "from keras.layers import Dense\n",
    "from keras.models import Sequential\n",
    "from keras.utils import to_categorical\n",
    "from keras.callbacks import EarlyStopping\n",
    "from sklearn.decomposition import PCA"
   ]
  },
  {
   "cell_type": "code",
   "execution_count": 83,
   "metadata": {},
   "outputs": [],
   "source": [
    "train = pd.read_csv('train.csv')\n",
    "test = pd.read_csv('test.csv')\n",
    "label = train['label']"
   ]
  },
  {
   "cell_type": "code",
   "execution_count": 84,
   "metadata": {},
   "outputs": [
    {
     "name": "stdout",
     "output_type": "stream",
     "text": [
      "(42000, 785)\n",
      "(28000, 784)\n"
     ]
    }
   ],
   "source": [
    "print(train.shape)\n",
    "print(test.shape)"
   ]
  },
  {
   "cell_type": "code",
   "execution_count": 85,
   "metadata": {},
   "outputs": [],
   "source": [
    "train = train.iloc[:,1:]"
   ]
  },
  {
   "cell_type": "code",
   "execution_count": 86,
   "metadata": {},
   "outputs": [
    {
     "name": "stdout",
     "output_type": "stream",
     "text": [
      "1    4684\n",
      "7    4401\n",
      "3    4351\n",
      "9    4188\n",
      "2    4177\n",
      "6    4137\n",
      "0    4132\n",
      "4    4072\n",
      "8    4063\n",
      "5    3795\n",
      "Name: label, dtype: int64\n"
     ]
    },
    {
     "data": {
      "image/png": "[encoded data removed]",
      "text/plain": [
       "<matplotlib.figure.Figure at 0x2ba87e26780>"
      ]
     },
     "metadata": {},
     "output_type": "display_data"
    }
   ],
   "source": [
    "print(label.value_counts())\n",
    "plt.figure(figsize=(11,6))\n",
    "plt.hist(label, bins=10, rwidth=0.8)\n",
    "plt.show()"
   ]
  },
  {
   "cell_type": "code",
   "execution_count": 87,
   "metadata": {},
   "outputs": [
    {
     "name": "stdout",
     "output_type": "stream",
     "text": [
      "<class 'pandas.core.frame.DataFrame'>\n",
      "RangeIndex: 42000 entries, 0 to 41999\n",
      "Columns: 784 entries, pixel0 to pixel783\n",
      "dtypes: int64(784)\n",
      "memory usage: 251.2 MB\n",
      "None\n",
      "dimensoin before change category : (42000,)\n",
      "after change category to matrix : (42000, 10)\n"
     ]
    }
   ],
   "source": [
    "print(train.info())\n",
    "print(\"dimensoin before change category : {}\".format(label.shape))\n",
    "#change label to matrix category\n",
    "label = to_categorical(label)\n",
    "print(\"after change category to matrix : {}\".format(label.shape))"
   ]
  },
  {
   "cell_type": "code",
   "execution_count": 88,
   "metadata": {},
   "outputs": [
    {
     "name": "stdout",
     "output_type": "stream",
     "text": [
      "255\n",
      "0\n",
      "after scaling\n",
      "1.0\n",
      "0.0\n"
     ]
    }
   ],
   "source": [
    "ar_train=train.values\n",
    "ar_test=test.values\n",
    "\n",
    "print(np.max(ar_train))\n",
    "print(np.min(ar_train))\n",
    "#scala 0-255\n",
    "#let's scaling\n",
    "ar_train = ar_train/255\n",
    "ar_test = ar_test/255\n",
    "\n",
    "print(\"after scaling\")\n",
    "print(np.max(ar_train))\n",
    "print(np.min(ar_test))"
   ]
  },
  {
   "cell_type": "code",
   "execution_count": 365,
   "metadata": {},
   "outputs": [],
   "source": [
    "pca = PCA(n_components=350)\n",
    "pca_train = pca.fit_transform(ar_train)\n",
    "variances=pca.explained_variance_\n",
    "variances_ratio = pca.explained_variance_ratio_\n",
    "n_components=pca.n_components_\n",
    "components = pca.components_"
   ]
  },
  {
   "cell_type": "code",
   "execution_count": 366,
   "metadata": {},
   "outputs": [
    {
     "data": {
      "image/png": "[encoded data removed]",
      "text/plain": [
       "<matplotlib.figure.Figure at 0x2ba89d76a90>"
      ]
     },
     "metadata": {},
     "output_type": "display_data"
    }
   ],
   "source": [
    "xlabel=np.arange(len(variances))+1\n",
    "plt.figure(figsize=(12, 5))\n",
    "plt.bar(xlabel, variances)\n",
    "plt.title(\"top 350 highest variances\")\n",
    "plt.show()"
   ]
  },
  {
   "cell_type": "code",
   "execution_count": 367,
   "metadata": {},
   "outputs": [
    {
     "name": "stdout",
     "output_type": "stream",
     "text": [
      "The Label is : 1\n",
      "[0. 1. 0. 0. 0. 0. 0. 0. 0. 0.]\n",
      "\n",
      "The Label is : 0\n",
      "[1. 0. 0. 0. 0. 0. 0. 0. 0. 0.]\n",
      "\n",
      "The Label is : 1\n",
      "[0. 1. 0. 0. 0. 0. 0. 0. 0. 0.]\n",
      "\n",
      "The Label is : 4\n",
      "[0. 0. 0. 0. 1. 0. 0. 0. 0. 0.]\n",
      "\n",
      "The Label is : 0\n",
      "[1. 0. 0. 0. 0. 0. 0. 0. 0. 0.]\n",
      "\n",
      "The Label is : 0\n",
      "[1. 0. 0. 0. 0. 0. 0. 0. 0. 0.]\n",
      "\n",
      "The Label is : 7\n",
      "[0. 0. 0. 0. 0. 0. 0. 1. 0. 0.]\n",
      "\n",
      "The Label is : 3\n",
      "[0. 0. 0. 1. 0. 0. 0. 0. 0. 0.]\n",
      "\n"
     ]
    },
    {
     "data": {
      "image/png": "[encoded data removed]",
      "text/plain": [
       "<matplotlib.figure.Figure at 0x2baa8f8a080>"
      ]
     },
     "metadata": {},
     "output_type": "display_data"
    }
   ],
   "source": [
    "#show View Image\n",
    "i=0\n",
    "for image in ar_train[:8,:] :\n",
    "    plt.subplot(4, 4, i+1)\n",
    "    print(\"The Label is : {}\".format(np.argmax(label[i,:], axis=0)))\n",
    "    print(label[i])\n",
    "    print()\n",
    "    image=image.reshape(28,28)\n",
    "    plt.imshow(image)\n",
    "    plt.axis('off')\n",
    "    i=i+1\n",
    "\n",
    "plt.tight_layout()\n",
    "plt.show()"
   ]
  },
  {
   "cell_type": "code",
   "execution_count": 368,
   "metadata": {},
   "outputs": [
    {
     "name": "stdout",
     "output_type": "stream",
     "text": [
      "Train on 33600 samples, validate on 8400 samples\n",
      "Epoch 1/40\n",
      "33600/33600 [==============================] - 2s 72us/step - loss: 0.4377 - acc: 0.8732 - val_loss: 0.2162 - val_acc: 0.9338\n",
      "Epoch 2/40\n",
      "33600/33600 [==============================] - 2s 62us/step - loss: 0.1544 - acc: 0.9539 - val_loss: 0.1580 - val_acc: 0.9527\n",
      "Epoch 3/40\n",
      "33600/33600 [==============================] - 2s 66us/step - loss: 0.1062 - acc: 0.9677 - val_loss: 0.1481 - val_acc: 0.9536\n",
      "Epoch 4/40\n",
      "33600/33600 [==============================] - 2s 70us/step - loss: 0.0764 - acc: 0.9771 - val_loss: 0.1379 - val_acc: 0.9583\n",
      "Epoch 5/40\n",
      "33600/33600 [==============================] - 2s 62us/step - loss: 0.0576 - acc: 0.9826 - val_loss: 0.1429 - val_acc: 0.9583\n",
      "Epoch 6/40\n",
      "33600/33600 [==============================] - 2s 63us/step - loss: 0.0429 - acc: 0.9866 - val_loss: 0.1573 - val_acc: 0.9576\n",
      "Epoch 7/40\n",
      "33600/33600 [==============================] - 2s 64us/step - loss: 0.0366 - acc: 0.9880 - val_loss: 0.1668 - val_acc: 0.9562\n"
     ]
    }
   ],
   "source": [
    "early_stop = EarlyStopping(patience=3)\n",
    "n_col = pca_train.shape[1]\n",
    "model = Sequential()\n",
    "#layer 1 with 50 neuron and input\n",
    "model.add(Dense(40, activation='relu', input_shape=(n_col,)))\n",
    "#layer 2 with 50 neuron\n",
    "model.add(Dense(60, activation='relu'))\n",
    "#layer 3 with 50 neuron\n",
    "model.add(Dense(60, activation='relu'))\n",
    "#output with activation softmax since we deal with classification, so the output are prob\n",
    "model.add(Dense(10, activation='softmax'))\n",
    "#Optimize model\n",
    "model.compile(optimizer='adam', loss='categorical_crossentropy', metrics=['accuracy'])\n",
    "#Train model with cross Validation\n",
    "#epoch = how many train with forward propagation and bacward propagation\n",
    "#early stopping mean, the train will be stop after if the accuracy didnnt increase\n",
    "history=model.fit(pca_train, label, validation_split=0.2, epochs=40, callbacks=[early_stop])"
   ]
  },
  {
   "cell_type": "code",
   "execution_count": 369,
   "metadata": {},
   "outputs": [
    {
     "data": {
      "image/png": "[encoded data removed]",
      "text/plain": [
       "<matplotlib.figure.Figure at 0x2ba9cffaa90>"
      ]
     },
     "metadata": {},
     "output_type": "display_data"
    }
   ],
   "source": [
    "val_loss=history.history['val_loss']\n",
    "loss = history.history['loss']\n",
    "\n",
    "plt.plot(val_loss, 'c', loss, 'm')\n",
    "plt.title('Val_loss vs loss')\n",
    "plt.xlabel('Epochs')\n",
    "plt.ylabel('#Loss')\n",
    "plt.legend(['Vall_loss', 'Loss'], loc='upper right')\n",
    "plt.show()"
   ]
  },
  {
   "cell_type": "code",
   "execution_count": 370,
   "metadata": {},
   "outputs": [],
   "source": [
    "pca_test = pca.transform(ar_test)"
   ]
  },
  {
   "cell_type": "code",
   "execution_count": 371,
   "metadata": {
    "slideshow": {
     "slide_type": "slide"
    }
   },
   "outputs": [],
   "source": [
    "y_pred = model.predict(pca_test)"
   ]
  },
  {
   "cell_type": "code",
   "execution_count": 372,
   "metadata": {},
   "outputs": [],
   "source": [
    "label_pred = np.argmax(y_pred, axis=1)\n",
    "label_pred = pd.DataFrame({\"ImageID\":list(np.arange(1,28001)), \"Label\":list(label_pred)})\n",
    "label_pred=label_pred.set_index(label_pred.ImageID)\n",
    "label_pred=label_pred.drop([\"ImageID\"], axis=1)\n",
    "label_pred.to_csv(\"Submission_Digit_Recognizer.csv\")"
   ]
  },
  {
   "cell_type": "code",
   "execution_count": 390,
   "metadata": {},
   "outputs": [],
   "source": [
    "def tebak_digit(filename):\n",
    "    digit = plt.imread(filename)\n",
    "    print(\"Digit_Dimension {}\".format(digit.shape))\n",
    "    digit = digit.mean(axis=2)\n",
    "    print(\"Digit_Dimension After Reshape {}\".format(digit.shape))\n",
    "    plt.imshow(digit)\n",
    "    plt.axis('off')\n",
    "    plt.show()\n",
    "    \n",
    "    digit = digit.reshape(1, len(digit)*len(digit))\n",
    "    digit = pca.transform(digit)\n",
    "    pred_digit = model.predict(digit)\n",
    "    \n",
    "    return np.argmax(pred_digit, axis=1)"
   ]
  },
  {
   "cell_type": "code",
   "execution_count": 391,
   "metadata": {},
   "outputs": [
    {
     "name": "stdout",
     "output_type": "stream",
     "text": [
      "Digit_Dimension (40, 40, 4)\n",
      "Digit_Dimension After Reshape (40, 40)\n"
     ]
    },
    {
     "data": {
      "image/png": "[encoded data removed]",
      "text/plain": [
       "<matplotlib.figure.Figure at 0x2baa8ef3f28>"
      ]
     },
     "metadata": {},
     "output_type": "display_data"
    },
    {
     "ename": "ValueError",
     "evalue": "operands could not be broadcast together with shapes (1,1600) (784,) ",
     "output_type": "error",
     "traceback": [
      "\u001b[1;31m---------------------------------------------------------------------------\u001b[0m",
      "\u001b[1;31mValueError\u001b[0m                                Traceback (most recent call last)",
      "\u001b[1;32m<ipython-input-391-7faaa022823b>\u001b[0m in \u001b[0;36m<module>\u001b[1;34m()\u001b[0m\n\u001b[1;32m----> 1\u001b[1;33m \u001b[0mpred\u001b[0m \u001b[1;33m=\u001b[0m \u001b[0mtebak_digit\u001b[0m\u001b[1;33m(\u001b[0m\u001b[1;34m'digit.png'\u001b[0m\u001b[1;33m)\u001b[0m\u001b[1;33m\u001b[0m\u001b[0m\n\u001b[0m\u001b[0;32m      2\u001b[0m \u001b[0mprint\u001b[0m\u001b[1;33m(\u001b[0m\u001b[0mpred\u001b[0m\u001b[1;33m)\u001b[0m\u001b[1;33m\u001b[0m\u001b[0m\n",
      "\u001b[1;32m<ipython-input-390-4ce157fdebec>\u001b[0m in \u001b[0;36mtebak_digit\u001b[1;34m(filename)\u001b[0m\n\u001b[0;32m      9\u001b[0m \u001b[1;33m\u001b[0m\u001b[0m\n\u001b[0;32m     10\u001b[0m     \u001b[0mdigit\u001b[0m \u001b[1;33m=\u001b[0m \u001b[0mdigit\u001b[0m\u001b[1;33m.\u001b[0m\u001b[0mreshape\u001b[0m\u001b[1;33m(\u001b[0m\u001b[1;36m1\u001b[0m\u001b[1;33m,\u001b[0m \u001b[0mlen\u001b[0m\u001b[1;33m(\u001b[0m\u001b[0mdigit\u001b[0m\u001b[1;33m)\u001b[0m\u001b[1;33m*\u001b[0m\u001b[0mlen\u001b[0m\u001b[1;33m(\u001b[0m\u001b[0mdigit\u001b[0m\u001b[1;33m)\u001b[0m\u001b[1;33m)\u001b[0m\u001b[1;33m\u001b[0m\u001b[0m\n\u001b[1;32m---> 11\u001b[1;33m     \u001b[0mdigit\u001b[0m \u001b[1;33m=\u001b[0m \u001b[0mpca\u001b[0m\u001b[1;33m.\u001b[0m\u001b[0mtransform\u001b[0m\u001b[1;33m(\u001b[0m\u001b[0mdigit\u001b[0m\u001b[1;33m)\u001b[0m\u001b[1;33m\u001b[0m\u001b[0m\n\u001b[0m\u001b[0;32m     12\u001b[0m     \u001b[0mpred_digit\u001b[0m \u001b[1;33m=\u001b[0m \u001b[0mmodel\u001b[0m\u001b[1;33m.\u001b[0m\u001b[0mpredict\u001b[0m\u001b[1;33m(\u001b[0m\u001b[0mdigit\u001b[0m\u001b[1;33m)\u001b[0m\u001b[1;33m\u001b[0m\u001b[0m\n\u001b[0;32m     13\u001b[0m \u001b[1;33m\u001b[0m\u001b[0m\n",
      "\u001b[1;32m~\\Anaconda3\\lib\\site-packages\\sklearn\\decomposition\\base.py\u001b[0m in \u001b[0;36mtransform\u001b[1;34m(self, X)\u001b[0m\n\u001b[0;32m    128\u001b[0m         \u001b[0mX\u001b[0m \u001b[1;33m=\u001b[0m \u001b[0mcheck_array\u001b[0m\u001b[1;33m(\u001b[0m\u001b[0mX\u001b[0m\u001b[1;33m)\u001b[0m\u001b[1;33m\u001b[0m\u001b[0m\n\u001b[0;32m    129\u001b[0m         \u001b[1;32mif\u001b[0m \u001b[0mself\u001b[0m\u001b[1;33m.\u001b[0m\u001b[0mmean_\u001b[0m \u001b[1;32mis\u001b[0m \u001b[1;32mnot\u001b[0m \u001b[1;32mNone\u001b[0m\u001b[1;33m:\u001b[0m\u001b[1;33m\u001b[0m\u001b[0m\n\u001b[1;32m--> 130\u001b[1;33m             \u001b[0mX\u001b[0m \u001b[1;33m=\u001b[0m \u001b[0mX\u001b[0m \u001b[1;33m-\u001b[0m \u001b[0mself\u001b[0m\u001b[1;33m.\u001b[0m\u001b[0mmean_\u001b[0m\u001b[1;33m\u001b[0m\u001b[0m\n\u001b[0m\u001b[0;32m    131\u001b[0m         \u001b[0mX_transformed\u001b[0m \u001b[1;33m=\u001b[0m \u001b[0mnp\u001b[0m\u001b[1;33m.\u001b[0m\u001b[0mdot\u001b[0m\u001b[1;33m(\u001b[0m\u001b[0mX\u001b[0m\u001b[1;33m,\u001b[0m \u001b[0mself\u001b[0m\u001b[1;33m.\u001b[0m\u001b[0mcomponents_\u001b[0m\u001b[1;33m.\u001b[0m\u001b[0mT\u001b[0m\u001b[1;33m)\u001b[0m\u001b[1;33m\u001b[0m\u001b[0m\n\u001b[0;32m    132\u001b[0m         \u001b[1;32mif\u001b[0m \u001b[0mself\u001b[0m\u001b[1;33m.\u001b[0m\u001b[0mwhiten\u001b[0m\u001b[1;33m:\u001b[0m\u001b[1;33m\u001b[0m\u001b[0m\n",
      "\u001b[1;31mValueError\u001b[0m: operands could not be broadcast together with shapes (1,1600) (784,) "
     ]
    }
   ],
   "source": [
    "pred = tebak_digit('digit.png')\n",
    "print(pred)"
   ]
  },
  {
   "cell_type": "code",
   "execution_count": 387,
   "metadata": {},
   "outputs": [
    {
     "data": {
      "text/plain": [
       "784"
      ]
     },
     "execution_count": 387,
     "metadata": {},
     "output_type": "execute_result"
    }
   ],
   "source": [
    "img = plt.imread('digit.png')\n",
    "len(img)*len(img)"
   ]
  },
  {
   "cell_type": "code",
   "execution_count": 379,
   "metadata": {},
   "outputs": [
    {
     "name": "stdout",
     "output_type": "stream",
     "text": [
      "The Label is : 2\n",
      "The Label is : 0\n",
      "The Label is : 9\n",
      "The Label is : 9\n",
      "The Label is : 3\n",
      "The Label is : 7\n",
      "The Label is : 0\n",
      "The Label is : 3\n",
      "The Label is : 0\n",
      "The Label is : 3\n"
     ]
    },
    {
     "data": {
      "image/png": "[encoded data removed]",
      "text/plain": [
       "<matplotlib.figure.Figure at 0x2ba8966c780>"
      ]
     },
     "metadata": {},
     "output_type": "display_data"
    }
   ],
   "source": [
    "i=0\n",
    "for image in ar_test[:10,:] :\n",
    "    plt.subplot(5, 5, i+1)\n",
    "    print(\"The Label is : {}\".format(label_pred.iloc[i,0]))\n",
    "    image=image.reshape(28,28)\n",
    "    plt.imshow(image)\n",
    "    plt.axis('off')\n",
    "    i=i+1\n",
    "\n",
    "plt.tight_layout()\n",
    "plt.show()"
   ]
  },
  {
   "cell_type": "code",
   "execution_count": null,
   "metadata": {},
   "outputs": [],
   "source": []
  },
  {
   "cell_type": "code",
   "execution_count": null,
   "metadata": {},
   "outputs": [],
   "source": []
  },
  {
   "cell_type": "code",
   "execution_count": null,
   "metadata": {},
   "outputs": [],
   "source": []
  },
  {
   "cell_type": "code",
   "execution_count": null,
   "metadata": {},
   "outputs": [],
   "source": []
  }
 ],
 "metadata": {
  "kernelspec": {
   "display_name": "Python 3",
   "language": "python",
   "name": "python3"
  },
  "language_info": {
   "codemirror_mode": {
    "name": "ipython",
    "version": 3
   },
   "file_extension": ".py",
   "mimetype": "text/x-python",
   "name": "python",
   "nbconvert_exporter": "python",
   "pygments_lexer": "ipython3",
   "version": "3.6.4"
  }
 },
 "nbformat": 4,
 "nbformat_minor": 2
}
