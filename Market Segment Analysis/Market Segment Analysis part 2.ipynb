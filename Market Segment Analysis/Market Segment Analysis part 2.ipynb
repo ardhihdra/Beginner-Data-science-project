{
 "cells": [
  {
   "cell_type": "code",
   "execution_count": 1,
   "metadata": {},
   "outputs": [],
   "source": [
    "import numpy as np\n",
    "import pandas as pd\n",
    "import matplotlib.pyplot as plt\n",
    "import seaborn as sns"
   ]
  },
  {
   "cell_type": "code",
   "execution_count": 2,
   "metadata": {},
   "outputs": [],
   "source": [
    "df = pd.read_excel('Online Retail.xlsx')"
   ]
  },
  {
   "cell_type": "code",
   "execution_count": 3,
   "metadata": {},
   "outputs": [
    {
     "name": "stdout",
     "output_type": "stream",
     "text": [
      "  InvoiceNo StockCode                          Description  Quantity  \\\n",
      "0    536365    85123A   WHITE HANGING HEART T-LIGHT HOLDER         6   \n",
      "1    536365     71053                  WHITE METAL LANTERN         6   \n",
      "2    536365    84406B       CREAM CUPID HEARTS COAT HANGER         8   \n",
      "3    536365    84029G  KNITTED UNION FLAG HOT WATER BOTTLE         6   \n",
      "4    536365    84029E       RED WOOLLY HOTTIE WHITE HEART.         6   \n",
      "5    536365     22752         SET 7 BABUSHKA NESTING BOXES         2   \n",
      "6    536365     21730    GLASS STAR FROSTED T-LIGHT HOLDER         6   \n",
      "7    536366     22633               HAND WARMER UNION JACK         6   \n",
      "8    536366     22632            HAND WARMER RED POLKA DOT         6   \n",
      "9    536367     84879        ASSORTED COLOUR BIRD ORNAMENT        32   \n",
      "\n",
      "          InvoiceDate  UnitPrice  CustomerID         Country  \n",
      "0 2010-12-01 08:26:00       2.55     17850.0  United Kingdom  \n",
      "1 2010-12-01 08:26:00       3.39     17850.0  United Kingdom  \n",
      "2 2010-12-01 08:26:00       2.75     17850.0  United Kingdom  \n",
      "3 2010-12-01 08:26:00       3.39     17850.0  United Kingdom  \n",
      "4 2010-12-01 08:26:00       3.39     17850.0  United Kingdom  \n",
      "5 2010-12-01 08:26:00       7.65     17850.0  United Kingdom  \n",
      "6 2010-12-01 08:26:00       4.25     17850.0  United Kingdom  \n",
      "7 2010-12-01 08:28:00       1.85     17850.0  United Kingdom  \n",
      "8 2010-12-01 08:28:00       1.85     17850.0  United Kingdom  \n",
      "9 2010-12-01 08:34:00       1.69     13047.0  United Kingdom  \n",
      "=====================\n",
      "<class 'pandas.core.frame.DataFrame'>\n",
      "RangeIndex: 541909 entries, 0 to 541908\n",
      "Data columns (total 8 columns):\n",
      "InvoiceNo      541909 non-null object\n",
      "StockCode      541909 non-null object\n",
      "Description    540455 non-null object\n",
      "Quantity       541909 non-null int64\n",
      "InvoiceDate    541909 non-null datetime64[ns]\n",
      "UnitPrice      541909 non-null float64\n",
      "CustomerID     406829 non-null float64\n",
      "Country        541909 non-null object\n",
      "dtypes: datetime64[ns](1), float64(2), int64(1), object(4)\n",
      "memory usage: 33.1+ MB\n",
      "None\n",
      "=====================\n",
      "            Quantity      UnitPrice     CustomerID\n",
      "count  541909.000000  541909.000000  406829.000000\n",
      "mean        9.552250       4.611114   15287.690570\n",
      "std       218.081158      96.759853    1713.600303\n",
      "min    -80995.000000  -11062.060000   12346.000000\n",
      "25%         1.000000       1.250000   13953.000000\n",
      "50%         3.000000       2.080000   15152.000000\n",
      "75%        10.000000       4.130000   16791.000000\n",
      "max     80995.000000   38970.000000   18287.000000\n",
      "=====================\n"
     ]
    }
   ],
   "source": [
    "print(df.head(10))\n",
    "print(\"=====================\")\n",
    "print(df.info())\n",
    "print(\"=====================\")\n",
    "print(df.describe())\n",
    "print(\"=====================\")"
   ]
  },
  {
   "cell_type": "code",
   "execution_count": 4,
   "metadata": {},
   "outputs": [
    {
     "name": "stdout",
     "output_type": "stream",
     "text": [
      "9291\n"
     ]
    }
   ],
   "source": [
    "indexC = []\n",
    "dex = 0\n",
    "\n",
    "for a in df['InvoiceNo'] :\n",
    "    if type(a) != np.int :\n",
    "        indexC.append(dex)\n",
    "    dex = dex + 1\n",
    "    \n",
    "print(len(indexC))\n"
   ]
  },
  {
   "cell_type": "code",
   "execution_count": 5,
   "metadata": {},
   "outputs": [],
   "source": [
    "df=df.drop(index=indexC)"
   ]
  },
  {
   "cell_type": "code",
   "execution_count": 6,
   "metadata": {},
   "outputs": [],
   "source": [
    "df = df.reset_index().drop(['index'], axis=1)\n",
    "df['Count'] = df.groupby('CustomerID')['UnitPrice'].count()\n",
    "df['PowerPurchasing'] = df['UnitPrice']*df['Quantity']"
   ]
  },
  {
   "cell_type": "code",
   "execution_count": 7,
   "metadata": {},
   "outputs": [],
   "source": [
    "def slicing(value) :\n",
    "    if type(value) == np.int :\n",
    "        return str(value)[:3]\n",
    "    return value[:3]"
   ]
  },
  {
   "cell_type": "code",
   "execution_count": 8,
   "metadata": {},
   "outputs": [],
   "source": [
    "df['StockCode'] = df['StockCode'].apply(slicing)"
   ]
  },
  {
   "cell_type": "code",
   "execution_count": 9,
   "metadata": {},
   "outputs": [],
   "source": [
    "product = pd.get_dummies(df['StockCode'])\n",
    "country = pd.get_dummies(df['Country'])"
   ]
  },
  {
   "cell_type": "code",
   "execution_count": 10,
   "metadata": {},
   "outputs": [],
   "source": [
    "\n",
    "df = df.drop(['InvoiceNo', 'StockCode', 'Description', 'InvoiceDate', 'Country'], axis=1)"
   ]
  },
  {
   "cell_type": "code",
   "execution_count": 11,
   "metadata": {},
   "outputs": [],
   "source": [
    "df = pd.concat([df, product, country], axis=1)"
   ]
  },
  {
   "cell_type": "code",
   "execution_count": 12,
   "metadata": {},
   "outputs": [],
   "source": [
    "df = df.groupby('CustomerID').sum()"
   ]
  },
  {
   "cell_type": "code",
   "execution_count": 14,
   "metadata": {},
   "outputs": [
    {
     "data": {
      "text/plain": [
       "CustomerID\n",
       "12346.0       0.0\n",
       "12347.0    1754.0\n",
       "12348.0       0.0\n",
       "12349.0       0.0\n",
       "12350.0       0.0\n",
       "12352.0       0.0\n",
       "12353.0       0.0\n",
       "12354.0       0.0\n",
       "12355.0       0.0\n",
       "12356.0       0.0\n",
       "12357.0       0.0\n",
       "12358.0       0.0\n",
       "12359.0       0.0\n",
       "12360.0       0.0\n",
       "12361.0       0.0\n",
       "12362.0       0.0\n",
       "12363.0       0.0\n",
       "12364.0       0.0\n",
       "12365.0       0.0\n",
       "12367.0       0.0\n",
       "12370.0       0.0\n",
       "12371.0       0.0\n",
       "12372.0       0.0\n",
       "12373.0       0.0\n",
       "12374.0       0.0\n",
       "12375.0       0.0\n",
       "12377.0       0.0\n",
       "12378.0       0.0\n",
       "12379.0       0.0\n",
       "12380.0       0.0\n",
       "            ...  \n",
       "18242.0       0.0\n",
       "18245.0       0.0\n",
       "18246.0       0.0\n",
       "18248.0       0.0\n",
       "18249.0       0.0\n",
       "18250.0       0.0\n",
       "18251.0       0.0\n",
       "18252.0       0.0\n",
       "18255.0       0.0\n",
       "18257.0       0.0\n",
       "18259.0     299.0\n",
       "18260.0       0.0\n",
       "18261.0       0.0\n",
       "18262.0       0.0\n",
       "18263.0       0.0\n",
       "18265.0       0.0\n",
       "18268.0       0.0\n",
       "18269.0     236.0\n",
       "18270.0       0.0\n",
       "18272.0       0.0\n",
       "18273.0       0.0\n",
       "18274.0       0.0\n",
       "18276.0       0.0\n",
       "18277.0       0.0\n",
       "18278.0       0.0\n",
       "18280.0       0.0\n",
       "18281.0       0.0\n",
       "18282.0       0.0\n",
       "18283.0       0.0\n",
       "18287.0       0.0\n",
       "Name: Count, Length: 4339, dtype: float64"
      ]
     },
     "execution_count": 14,
     "metadata": {},
     "output_type": "execute_result"
    }
   ],
   "source": [
    "df['Count']"
   ]
  },
  {
   "cell_type": "code",
   "execution_count": null,
   "metadata": {},
   "outputs": [],
   "source": []
  },
  {
   "cell_type": "code",
   "execution_count": null,
   "metadata": {},
   "outputs": [],
   "source": []
  }
 ],
 "metadata": {
  "kernelspec": {
   "display_name": "Python 3",
   "language": "python",
   "name": "python3"
  },
  "language_info": {
   "codemirror_mode": {
    "name": "ipython",
    "version": 3
   },
   "file_extension": ".py",
   "mimetype": "text/x-python",
   "name": "python",
   "nbconvert_exporter": "python",
   "pygments_lexer": "ipython3",
   "version": "3.6.4"
  }
 },
 "nbformat": 4,
 "nbformat_minor": 2
}
