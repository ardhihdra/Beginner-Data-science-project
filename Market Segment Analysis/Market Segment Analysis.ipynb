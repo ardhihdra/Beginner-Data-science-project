{
 "cells": [
  {
   "cell_type": "markdown",
   "metadata": {},
   "source": [
    "# Market Segmentation Analysis"
   ]
  },
  {
   "cell_type": "code",
   "execution_count": 2,
   "metadata": {},
   "outputs": [],
   "source": [
    "import numpy as np\n",
    "import pandas as pd\n",
    "import matplotlib.pyplot as plt\n",
    "import seaborn as sns"
   ]
  },
  {
   "cell_type": "code",
   "execution_count": 3,
   "metadata": {},
   "outputs": [
    {
     "name": "stdout",
     "output_type": "stream",
     "text": [
      "=====================\n",
      "  InvoiceNo StockCode                          Description  Quantity  \\\n",
      "0    536365    85123A   WHITE HANGING HEART T-LIGHT HOLDER         6   \n",
      "1    536365     71053                  WHITE METAL LANTERN         6   \n",
      "2    536365    84406B       CREAM CUPID HEARTS COAT HANGER         8   \n",
      "3    536365    84029G  KNITTED UNION FLAG HOT WATER BOTTLE         6   \n",
      "4    536365    84029E       RED WOOLLY HOTTIE WHITE HEART.         6   \n",
      "5    536365     22752         SET 7 BABUSHKA NESTING BOXES         2   \n",
      "6    536365     21730    GLASS STAR FROSTED T-LIGHT HOLDER         6   \n",
      "7    536366     22633               HAND WARMER UNION JACK         6   \n",
      "8    536366     22632            HAND WARMER RED POLKA DOT         6   \n",
      "9    536367     84879        ASSORTED COLOUR BIRD ORNAMENT        32   \n",
      "\n",
      "          InvoiceDate  UnitPrice  CustomerID         Country  \n",
      "0 2010-12-01 08:26:00       2.55     17850.0  United Kingdom  \n",
      "1 2010-12-01 08:26:00       3.39     17850.0  United Kingdom  \n",
      "2 2010-12-01 08:26:00       2.75     17850.0  United Kingdom  \n",
      "3 2010-12-01 08:26:00       3.39     17850.0  United Kingdom  \n",
      "4 2010-12-01 08:26:00       3.39     17850.0  United Kingdom  \n",
      "5 2010-12-01 08:26:00       7.65     17850.0  United Kingdom  \n",
      "6 2010-12-01 08:26:00       4.25     17850.0  United Kingdom  \n",
      "7 2010-12-01 08:28:00       1.85     17850.0  United Kingdom  \n",
      "8 2010-12-01 08:28:00       1.85     17850.0  United Kingdom  \n",
      "9 2010-12-01 08:34:00       1.69     13047.0  United Kingdom  \n",
      "=====================\n",
      "<class 'pandas.core.frame.DataFrame'>\n",
      "RangeIndex: 541909 entries, 0 to 541908\n",
      "Data columns (total 8 columns):\n",
      "InvoiceNo      541909 non-null object\n",
      "StockCode      541909 non-null object\n",
      "Description    540455 non-null object\n",
      "Quantity       541909 non-null int64\n",
      "InvoiceDate    541909 non-null datetime64[ns]\n",
      "UnitPrice      541909 non-null float64\n",
      "CustomerID     406829 non-null float64\n",
      "Country        541909 non-null object\n",
      "dtypes: datetime64[ns](1), float64(2), int64(1), object(4)\n",
      "memory usage: 33.1+ MB\n",
      "None\n",
      "=====================\n",
      "            Quantity      UnitPrice     CustomerID\n",
      "count  541909.000000  541909.000000  406829.000000\n",
      "mean        9.552250       4.611114   15287.690570\n",
      "std       218.081158      96.759853    1713.600303\n",
      "min    -80995.000000  -11062.060000   12346.000000\n",
      "25%         1.000000       1.250000   13953.000000\n",
      "50%         3.000000       2.080000   15152.000000\n",
      "75%        10.000000       4.130000   16791.000000\n",
      "max     80995.000000   38970.000000   18287.000000\n",
      "=====================\n"
     ]
    }
   ],
   "source": [
    "df = pd.read_excel('Online Retail.xlsx') #read file\n",
    "print(\"=====================\")\n",
    "print(df.head(10))\n",
    "print(\"=====================\")\n",
    "print(df.info())\n",
    "print(\"=====================\")\n",
    "print(df.describe())\n",
    "print(\"=====================\")"
   ]
  },
  {
   "cell_type": "markdown",
   "metadata": {},
   "source": [
    "## Description About Data\n",
    "\n",
    "### Feature Description :\n",
    "\n",
    "1. InvoiceNO = Dokumen Id yang digunakan sebagai bukti pembelian, berisi informasi berupa pembayaran yang harus di bayar. apabila Id memilikir awalan 'c', mengindikasikan transaksi batal.\n",
    "2. Stock Code = Product (item) code. kode unik untuk setiap produk berbeda\n",
    "3. Description = Product (item) name.\n",
    "4. Quantity = Jumlah produk setiap transasksi.\n",
    "5. InvoiceDate = Hari dan waktu dimana setiap transaksi dihasilkan.\n",
    "6. UnitPrice = Harga setiap produk di sterling.\n",
    "7. CostumerID = Costumer ID.\n",
    "8. Country : Nama negara setiap kostumer tinggal.\n",
    "\n",
    "### Data Set Information\n",
    "This is a transnational data set which contains all the transactions occurring between 01/12/2010 and 09/12/2011 for a UK-based and registered non-store online retail.The company mainly sells unique all-occasion gifts. Many customers of the company are wholesalers.\n",
    "\n",
    "### Relevant Paper\n",
    "If you want to know more about this case, you can visit this research :\n",
    "Relevant Papers:\n",
    "\n",
    "The evolution of direct, data and digital marketing, Richard Webber, Journal of Direct, Data and Digital Marketing Practice (2013) 14, 291â€“309. \n",
    "Clustering Experiments on Big Transaction Data for Market Segmentation, \n",
    "Ashishkumar Singh, Grace Rumantir, Annie South, Blair Bethwaite, Proceedings of the 2014 International Conference on Big Data Science and Computing. \n",
    "A decision-making framework for precision marketing, Zhen You, Yain-Whar Si, Defu Zhang, XiangXiang Zeng, Stephen C.H. Leung c, Tao Li, Expert Systems with Applications, 42 (2015) 3357â€“3367\n",
    "\n",
    "### Conclusion in Explolatory Data Analysis\n",
    "- Data contains Nominal(object), int, and datetime.\n",
    "- There are 2 features have missing values. Description and Costumer ID\n",
    "- We have negative number in quantity and Unit Price, whic is, it's not rational. we need to explore more deep in these data."
   ]
  },
  {
   "cell_type": "markdown",
   "metadata": {},
   "source": [
    "## Explolatory Data Analysis"
   ]
  },
  {
   "cell_type": "markdown",
   "metadata": {},
   "source": [
    "I will call all the data which is have negative quantity.The result is many data that have negative quantity also have cancelation transacion. but not all. \n",
    "I'm corious about these data that have negative quantity but have no cancelation. it's not rational. if I can't find this why. I will assume these are fraud data. so I can have the information (information who got the produk but has cancel transaction.\n",
    "\n",
    "This is very large dataset, need to do many Explolatory Data Analysis, but keep in mind that our goal is to clustering the customer.\n",
    "\n",
    "What cleaning I do here is :\n",
    "0. Removing cancel transaction, because in my business perspective, cancel mean the costumer didn't match with the product, so \n",
    "1. See for missing values, and consider to remove or fill it.\n",
    "2. Grouping by Costumer ID since we want to clustering the Customer.\n",
    "3. Feature engeenering : add count column (how many Costumer buying)\n",
    "3. See for outlier\n",
    "4. Visual Explolatory\n"
   ]
  },
  {
   "cell_type": "code",
   "execution_count": 4,
   "metadata": {},
   "outputs": [
    {
     "name": "stdout",
     "output_type": "stream",
     "text": [
      "9291\n"
     ]
    }
   ],
   "source": [
    "indexC = []\n",
    "dex = 0\n",
    "\n",
    "for a in df['InvoiceNo'] :\n",
    "    if type(a) != np.int :\n",
    "        indexC.append(dex)\n",
    "    dex = dex + 1\n",
    "    \n",
    "print(len(indexC))\n"
   ]
  },
  {
   "cell_type": "code",
   "execution_count": 5,
   "metadata": {},
   "outputs": [],
   "source": [
    "dfdrop=df.drop(index=indexC)"
   ]
  },
  {
   "cell_type": "code",
   "execution_count": 6,
   "metadata": {},
   "outputs": [
    {
     "name": "stdout",
     "output_type": "stream",
     "text": [
      "            Quantity      UnitPrice     CustomerID\n",
      "count  532618.000000  532618.000000  397924.000000\n",
      "mean       10.240024       3.868412   15294.315171\n",
      "std       159.593999      32.470442    1713.169877\n",
      "min     -9600.000000       0.000000   12346.000000\n",
      "25%         1.000000       1.250000   13969.000000\n",
      "50%         3.000000       2.080000   15159.000000\n",
      "75%        10.000000       4.130000   16795.000000\n",
      "max     80995.000000   13541.330000   18287.000000\n",
      "==========================================================================================================\n",
      "<class 'pandas.core.frame.DataFrame'>\n",
      "Int64Index: 532618 entries, 0 to 541908\n",
      "Data columns (total 8 columns):\n",
      "InvoiceNo      532618 non-null object\n",
      "StockCode      532618 non-null object\n",
      "Description    531164 non-null object\n",
      "Quantity       532618 non-null int64\n",
      "InvoiceDate    532618 non-null datetime64[ns]\n",
      "UnitPrice      532618 non-null float64\n",
      "CustomerID     397924 non-null float64\n",
      "Country        532618 non-null object\n",
      "dtypes: datetime64[ns](1), float64(2), int64(1), object(4)\n",
      "memory usage: 36.6+ MB\n",
      "None\n",
      "(532618, 8)\n"
     ]
    }
   ],
   "source": [
    "print(dfdrop.describe())\n",
    "print(\"==========================================================================================================\")\n",
    "print(dfdrop.info())\n",
    "print(dfdrop.shape)"
   ]
  },
  {
   "cell_type": "code",
   "execution_count": 7,
   "metadata": {},
   "outputs": [
    {
     "data": {
      "text/html": [
       "<div>\n",
       "<style scoped>\n",
       "    .dataframe tbody tr th:only-of-type {\n",
       "        vertical-align: middle;\n",
       "    }\n",
       "\n",
       "    .dataframe tbody tr th {\n",
       "        vertical-align: top;\n",
       "    }\n",
       "\n",
       "    .dataframe thead th {\n",
       "        text-align: right;\n",
       "    }\n",
       "</style>\n",
       "<table border=\"1\" class=\"dataframe\">\n",
       "  <thead>\n",
       "    <tr style=\"text-align: right;\">\n",
       "      <th></th>\n",
       "      <th>Quantity</th>\n",
       "      <th>UnitPrice</th>\n",
       "      <th>CustomerID</th>\n",
       "    </tr>\n",
       "  </thead>\n",
       "  <tbody>\n",
       "    <tr>\n",
       "      <th>count</th>\n",
       "      <td>530103.000000</td>\n",
       "      <td>530103.000000</td>\n",
       "      <td>397884.000000</td>\n",
       "    </tr>\n",
       "    <tr>\n",
       "      <th>mean</th>\n",
       "      <td>10.542055</td>\n",
       "      <td>3.886765</td>\n",
       "      <td>15294.423453</td>\n",
       "    </tr>\n",
       "    <tr>\n",
       "      <th>std</th>\n",
       "      <td>155.524270</td>\n",
       "      <td>32.546281</td>\n",
       "      <td>1713.141560</td>\n",
       "    </tr>\n",
       "    <tr>\n",
       "      <th>min</th>\n",
       "      <td>1.000000</td>\n",
       "      <td>0.001000</td>\n",
       "      <td>12346.000000</td>\n",
       "    </tr>\n",
       "    <tr>\n",
       "      <th>25%</th>\n",
       "      <td>1.000000</td>\n",
       "      <td>1.250000</td>\n",
       "      <td>13969.000000</td>\n",
       "    </tr>\n",
       "    <tr>\n",
       "      <th>50%</th>\n",
       "      <td>3.000000</td>\n",
       "      <td>2.080000</td>\n",
       "      <td>15159.000000</td>\n",
       "    </tr>\n",
       "    <tr>\n",
       "      <th>75%</th>\n",
       "      <td>10.000000</td>\n",
       "      <td>4.130000</td>\n",
       "      <td>16795.000000</td>\n",
       "    </tr>\n",
       "    <tr>\n",
       "      <th>max</th>\n",
       "      <td>80995.000000</td>\n",
       "      <td>13541.330000</td>\n",
       "      <td>18287.000000</td>\n",
       "    </tr>\n",
       "  </tbody>\n",
       "</table>\n",
       "</div>"
      ],
      "text/plain": [
       "            Quantity      UnitPrice     CustomerID\n",
       "count  530103.000000  530103.000000  397884.000000\n",
       "mean       10.542055       3.886765   15294.423453\n",
       "std       155.524270      32.546281    1713.141560\n",
       "min         1.000000       0.001000   12346.000000\n",
       "25%         1.000000       1.250000   13969.000000\n",
       "50%         3.000000       2.080000   15159.000000\n",
       "75%        10.000000       4.130000   16795.000000\n",
       "max     80995.000000   13541.330000   18287.000000"
      ]
     },
     "execution_count": 7,
     "metadata": {},
     "output_type": "execute_result"
    }
   ],
   "source": [
    "index0 = dfdrop[dfdrop['UnitPrice']==0].index\n",
    "dfdrop = dfdrop.drop(index=index0)\n",
    "dfdrop.describe()"
   ]
  },
  {
   "cell_type": "markdown",
   "metadata": {},
   "source": [
    "After drop we have no negatif values, that's mean all negatif values are cancel transaction."
   ]
  },
  {
   "cell_type": "code",
   "execution_count": 8,
   "metadata": {},
   "outputs": [
    {
     "name": "stdout",
     "output_type": "stream",
     "text": [
      "Jumlah Unique value column InvoiceNo :\n",
      "19959\n",
      "Jumlah Unique value column StockCode :\n",
      "3921\n",
      "Jumlah Unique value column Description :\n",
      "4025\n",
      "Jumlah Unique value column Quantity :\n",
      "375\n",
      "Jumlah Unique value column InvoiceDate :\n",
      "18499\n",
      "Jumlah Unique value column UnitPrice :\n",
      "1290\n",
      "Jumlah Unique value column CustomerID :\n",
      "4338\n",
      "Jumlah Unique value column Country :\n",
      "38\n"
     ]
    }
   ],
   "source": [
    "count_unique_col = []\n",
    "for col in dfdrop.columns :\n",
    "    print(\"Jumlah Unique value column {} :\".format(col))\n",
    "    count = dfdrop[col].nunique()\n",
    "    print(count)\n",
    "    count_unique_col.append(count)"
   ]
  },
  {
   "cell_type": "code",
   "execution_count": 9,
   "metadata": {},
   "outputs": [
    {
     "name": "stdout",
     "output_type": "stream",
     "text": [
      "                Quantity  UnitPrice\n",
      "CustomerID                         \n",
      "12346.0     74215.000000   1.040000\n",
      "12347.0        13.505495   2.644011\n",
      "12348.0        75.516129   5.764839\n",
      "12349.0         8.643836   8.289041\n",
      "12350.0        11.588235   3.841176\n",
      "==========================================================================================================\n",
      "<class 'pandas.core.frame.DataFrame'>\n",
      "Float64Index: 4338 entries, 12346.0 to 18287.0\n",
      "Data columns (total 2 columns):\n",
      "Quantity     4338 non-null float64\n",
      "UnitPrice    4338 non-null float64\n",
      "dtypes: float64(2)\n",
      "memory usage: 101.7 KB\n",
      "None\n",
      "==========================================================================================================\n",
      "           Quantity    UnitPrice\n",
      "count   4338.000000  4338.000000\n",
      "mean      45.065550     4.467773\n",
      "std     1203.438033    34.211451\n",
      "min        1.000000     0.122500\n",
      "25%        6.000000     2.203728\n",
      "50%       10.000000     2.917611\n",
      "75%       14.666667     3.829784\n",
      "max    74215.000000  2033.100000\n"
     ]
    }
   ],
   "source": [
    "data1 = dfdrop.groupby(['CustomerID'])['Quantity','UnitPrice'].mean()\n",
    "print(data1.head())\n",
    "print(\"==========================================================================================================\")\n",
    "print(data1.info())\n",
    "print(\"==========================================================================================================\")\n",
    "print(data1.describe())"
   ]
  },
  {
   "cell_type": "code",
   "execution_count": 10,
   "metadata": {},
   "outputs": [
    {
     "data": {
      "text/html": [
       "<div>\n",
       "<style scoped>\n",
       "    .dataframe tbody tr th:only-of-type {\n",
       "        vertical-align: middle;\n",
       "    }\n",
       "\n",
       "    .dataframe tbody tr th {\n",
       "        vertical-align: top;\n",
       "    }\n",
       "\n",
       "    .dataframe thead th {\n",
       "        text-align: right;\n",
       "    }\n",
       "</style>\n",
       "<table border=\"1\" class=\"dataframe\">\n",
       "  <thead>\n",
       "    <tr style=\"text-align: right;\">\n",
       "      <th></th>\n",
       "      <th>Quantity</th>\n",
       "      <th>UnitPrice</th>\n",
       "      <th>Count</th>\n",
       "    </tr>\n",
       "  </thead>\n",
       "  <tbody>\n",
       "    <tr>\n",
       "      <th>count</th>\n",
       "      <td>4338.000000</td>\n",
       "      <td>4338.000000</td>\n",
       "      <td>4338.000000</td>\n",
       "    </tr>\n",
       "    <tr>\n",
       "      <th>mean</th>\n",
       "      <td>45.065550</td>\n",
       "      <td>4.467773</td>\n",
       "      <td>91.720609</td>\n",
       "    </tr>\n",
       "    <tr>\n",
       "      <th>std</th>\n",
       "      <td>1203.438033</td>\n",
       "      <td>34.211451</td>\n",
       "      <td>228.785094</td>\n",
       "    </tr>\n",
       "    <tr>\n",
       "      <th>min</th>\n",
       "      <td>1.000000</td>\n",
       "      <td>0.122500</td>\n",
       "      <td>1.000000</td>\n",
       "    </tr>\n",
       "    <tr>\n",
       "      <th>25%</th>\n",
       "      <td>6.000000</td>\n",
       "      <td>2.203728</td>\n",
       "      <td>17.000000</td>\n",
       "    </tr>\n",
       "    <tr>\n",
       "      <th>50%</th>\n",
       "      <td>10.000000</td>\n",
       "      <td>2.917611</td>\n",
       "      <td>41.000000</td>\n",
       "    </tr>\n",
       "    <tr>\n",
       "      <th>75%</th>\n",
       "      <td>14.666667</td>\n",
       "      <td>3.829784</td>\n",
       "      <td>100.000000</td>\n",
       "    </tr>\n",
       "    <tr>\n",
       "      <th>max</th>\n",
       "      <td>74215.000000</td>\n",
       "      <td>2033.100000</td>\n",
       "      <td>7847.000000</td>\n",
       "    </tr>\n",
       "  </tbody>\n",
       "</table>\n",
       "</div>"
      ],
      "text/plain": [
       "           Quantity    UnitPrice        Count\n",
       "count   4338.000000  4338.000000  4338.000000\n",
       "mean      45.065550     4.467773    91.720609\n",
       "std     1203.438033    34.211451   228.785094\n",
       "min        1.000000     0.122500     1.000000\n",
       "25%        6.000000     2.203728    17.000000\n",
       "50%       10.000000     2.917611    41.000000\n",
       "75%       14.666667     3.829784   100.000000\n",
       "max    74215.000000  2033.100000  7847.000000"
      ]
     },
     "execution_count": 10,
     "metadata": {},
     "output_type": "execute_result"
    }
   ],
   "source": [
    "count = dfdrop.groupby('CustomerID')['UnitPrice'].count()\n",
    "data1['Count'] = count\n",
    "data1.describe()"
   ]
  },
  {
   "cell_type": "code",
   "execution_count": 11,
   "metadata": {},
   "outputs": [
    {
     "data": {
      "image/png": "[encoded data removed]",
      "text/plain": [
       "<matplotlib.figure.Figure at 0x1bd8afce908>"
      ]
     },
     "metadata": {},
     "output_type": "display_data"
    },
    {
     "data": {
      "image/png": "[encoded data removed]",
      "text/plain": [
       "<matplotlib.figure.Figure at 0x1bd91917898>"
      ]
     },
     "metadata": {},
     "output_type": "display_data"
    },
    {
     "data": {
      "image/png": "[encoded data removed]",
      "text/plain": [
       "<matplotlib.figure.Figure at 0x1bd919177f0>"
      ]
     },
     "metadata": {},
     "output_type": "display_data"
    }
   ],
   "source": [
    "plt.figure(figsize=(7,7))\n",
    "data1['Quantity'].plot(kind='box')\n",
    "plt.show()\n",
    "plt.figure(figsize=(7,7))\n",
    "data1['UnitPrice'].plot(kind='box')\n",
    "plt.show()\n",
    "plt.figure(figsize=(7,7))\n",
    "data1.Count.plot(kind='box')\n",
    "plt.show()"
   ]
  },
  {
   "cell_type": "code",
   "execution_count": 12,
   "metadata": {},
   "outputs": [
    {
     "data": {
      "image/png": "[encoded data removed]",
      "text/plain": [
       "<matplotlib.figure.Figure at 0x1bd8ecbec18>"
      ]
     },
     "metadata": {},
     "output_type": "display_data"
    }
   ],
   "source": [
    "sns.pairplot(data1)\n",
    "plt.show()"
   ]
  },
  {
   "cell_type": "code",
   "execution_count": 13,
   "metadata": {},
   "outputs": [],
   "source": [
    "from sklearn.preprocessing import StandardScaler\n",
    "\n",
    "normaliz = StandardScaler()\n",
    "data1N = normaliz.fit_transform(data1)"
   ]
  },
  {
   "cell_type": "code",
   "execution_count": 14,
   "metadata": {},
   "outputs": [
    {
     "data": {
      "image/png": "[encoded data removed]",
      "text/plain": [
       "<matplotlib.figure.Figure at 0x1bd88a5d128>"
      ]
     },
     "metadata": {},
     "output_type": "display_data"
    }
   ],
   "source": [
    "from sklearn.cluster import KMeans\n",
    "\n",
    "k = np.arange(2, 17)\n",
    "inertias = []\n",
    "for kn in k:\n",
    "    mod = KMeans(n_clusters=kn)\n",
    "    label = mod.fit_transform(data1N)\n",
    "    inertias.append(mod.inertia_)\n",
    "    \n",
    "plt.plot(k, inertias, '-o')\n",
    "plt.show()"
   ]
  },
  {
   "cell_type": "markdown",
   "metadata": {},
   "source": [
    "In model selection KMeans, we have to consider between the error and number of cluster. we will choose cluster who didn't significance in decreasing when we add more cluster, and I think that is 5 cluster."
   ]
  },
  {
   "cell_type": "code",
   "execution_count": 15,
   "metadata": {},
   "outputs": [
    {
     "name": "stdout",
     "output_type": "stream",
     "text": [
      "[1 0 0 ... 0 4 0]\n"
     ]
    }
   ],
   "source": [
    "#Select Model KMeans with 5 Cluster\n",
    "\n",
    "model = KMeans(n_clusters = 5, random_state=21)\n",
    "label = model.fit_predict(data1N)\n",
    "\n",
    "print(label)"
   ]
  },
  {
   "cell_type": "code",
   "execution_count": 16,
   "metadata": {},
   "outputs": [
    {
     "name": "stdout",
     "output_type": "stream",
     "text": [
      "0    4070\n",
      "4     262\n",
      "3       4\n",
      "2       1\n",
      "1       1\n",
      "dtype: int64\n"
     ]
    }
   ],
   "source": [
    "print(pd.Series(label).value_counts())\n",
    "\n",
    "data1['Cluster'] = label"
   ]
  },
  {
   "cell_type": "markdown",
   "metadata": {},
   "source": [
    "We have minority here, that should be outlier, we don't need cluster that have only 1 Customer. so we will remove that customer.\n",
    "\n",
    "actually, KMeans is not good if our data have outlier."
   ]
  },
  {
   "cell_type": "code",
   "execution_count": 17,
   "metadata": {},
   "outputs": [],
   "source": [
    "from scipy.stats import zscore\n",
    "\n",
    "#Remove outlier\n",
    "indexO = []\n",
    "indexO = indexO + list(data1[zscore(data1['Count'])>3].index.astype(int))\n",
    "indexO = indexO + list(data1[zscore(data1['Count'])<-3].index.astype(int))\n",
    "indexO = indexO + list(data1[data1['Count']<10].index.astype(int))"
   ]
  },
  {
   "cell_type": "code",
   "execution_count": 18,
   "metadata": {},
   "outputs": [
    {
     "data": {
      "text/html": [
       "<div>\n",
       "<style scoped>\n",
       "    .dataframe tbody tr th:only-of-type {\n",
       "        vertical-align: middle;\n",
       "    }\n",
       "\n",
       "    .dataframe tbody tr th {\n",
       "        vertical-align: top;\n",
       "    }\n",
       "\n",
       "    .dataframe thead th {\n",
       "        text-align: right;\n",
       "    }\n",
       "</style>\n",
       "<table border=\"1\" class=\"dataframe\">\n",
       "  <thead>\n",
       "    <tr style=\"text-align: right;\">\n",
       "      <th></th>\n",
       "      <th>Quantity</th>\n",
       "      <th>UnitPrice</th>\n",
       "      <th>Count</th>\n",
       "      <th>Cluster</th>\n",
       "    </tr>\n",
       "  </thead>\n",
       "  <tbody>\n",
       "    <tr>\n",
       "      <th>count</th>\n",
       "      <td>3727.000000</td>\n",
       "      <td>3727.000000</td>\n",
       "      <td>3727.000000</td>\n",
       "      <td>3727.000000</td>\n",
       "    </tr>\n",
       "    <tr>\n",
       "      <th>mean</th>\n",
       "      <td>14.099188</td>\n",
       "      <td>3.266702</td>\n",
       "      <td>90.979340</td>\n",
       "      <td>0.254360</td>\n",
       "    </tr>\n",
       "    <tr>\n",
       "      <th>std</th>\n",
       "      <td>40.150529</td>\n",
       "      <td>2.605585</td>\n",
       "      <td>107.828801</td>\n",
       "      <td>0.976216</td>\n",
       "    </tr>\n",
       "    <tr>\n",
       "      <th>min</th>\n",
       "      <td>1.000000</td>\n",
       "      <td>0.391724</td>\n",
       "      <td>10.000000</td>\n",
       "      <td>0.000000</td>\n",
       "    </tr>\n",
       "    <tr>\n",
       "      <th>25%</th>\n",
       "      <td>5.746795</td>\n",
       "      <td>2.234777</td>\n",
       "      <td>25.000000</td>\n",
       "      <td>0.000000</td>\n",
       "    </tr>\n",
       "    <tr>\n",
       "      <th>50%</th>\n",
       "      <td>9.631579</td>\n",
       "      <td>2.903846</td>\n",
       "      <td>51.000000</td>\n",
       "      <td>0.000000</td>\n",
       "    </tr>\n",
       "    <tr>\n",
       "      <th>75%</th>\n",
       "      <td>13.512007</td>\n",
       "      <td>3.746495</td>\n",
       "      <td>111.000000</td>\n",
       "      <td>0.000000</td>\n",
       "    </tr>\n",
       "    <tr>\n",
       "      <th>max</th>\n",
       "      <td>1802.800000</td>\n",
       "      <td>98.528947</td>\n",
       "      <td>756.000000</td>\n",
       "      <td>4.000000</td>\n",
       "    </tr>\n",
       "  </tbody>\n",
       "</table>\n",
       "</div>"
      ],
      "text/plain": [
       "          Quantity    UnitPrice        Count      Cluster\n",
       "count  3727.000000  3727.000000  3727.000000  3727.000000\n",
       "mean     14.099188     3.266702    90.979340     0.254360\n",
       "std      40.150529     2.605585   107.828801     0.976216\n",
       "min       1.000000     0.391724    10.000000     0.000000\n",
       "25%       5.746795     2.234777    25.000000     0.000000\n",
       "50%       9.631579     2.903846    51.000000     0.000000\n",
       "75%      13.512007     3.746495   111.000000     0.000000\n",
       "max    1802.800000    98.528947   756.000000     4.000000"
      ]
     },
     "execution_count": 18,
     "metadata": {},
     "output_type": "execute_result"
    }
   ],
   "source": [
    "data1.index = data1.index.astype(int)\n",
    "data1_ = data1.drop(index=indexO)\n",
    "data1_.describe()"
   ]
  },
  {
   "cell_type": "code",
   "execution_count": 19,
   "metadata": {},
   "outputs": [
    {
     "name": "stdout",
     "output_type": "stream",
     "text": [
      "1    3274\n",
      "4     434\n",
      "0      16\n",
      "3       2\n",
      "2       1\n",
      "dtype: int64\n"
     ]
    }
   ],
   "source": [
    "data1_N = normaliz.fit_transform(data1_[['Quantity','UnitPrice','Count']])\n",
    "label1=model.fit_predict(data1_N)\n",
    "print(pd.Series(label1).value_counts())"
   ]
  },
  {
   "cell_type": "markdown",
   "metadata": {},
   "source": [
    "we still have cluster that have 1 customer, I think we can't denied it, we have to treat them different, I think these are fraud customer."
   ]
  },
  {
   "cell_type": "markdown",
   "metadata": {},
   "source": [
    "let we see now the characteristic every cluster"
   ]
  },
  {
   "cell_type": "code",
   "execution_count": 20,
   "metadata": {},
   "outputs": [],
   "source": [
    "data1_=data1_.drop(['Cluster'],axis=1)"
   ]
  },
  {
   "cell_type": "code",
   "execution_count": 21,
   "metadata": {},
   "outputs": [
    {
     "name": "stdout",
     "output_type": "stream",
     "text": [
      "Cluster 0\n",
      "              Quantity  UnitPrice  Count  Label\n",
      "CustomerID                                     \n",
      "12830       259.157895   1.086316     38      0\n",
      "12901       198.922414   1.466379    116      0\n",
      "12931       341.512195   1.701707     82      0\n",
      "13027       664.615385   0.400000     26      0\n",
      "14101       198.342857   1.730000     35      0\n",
      "15769       228.246154   2.050769    130      0\n",
      "16029       166.148760  36.042934    242      0\n",
      "16333       715.200000   1.066222     45      0\n",
      "16684       181.425993   2.451625    277      0\n",
      "17306       174.106061   1.558030     66      0\n",
      "17381       235.311927   1.335321    109      0\n",
      "17404       165.393939   2.193939    198      0\n",
      "17450       207.694362   3.392641    337      0\n",
      "17857       356.592593  10.332407     54      0\n",
      "17949       436.371429   3.391429     70      0\n",
      "18251       489.000000   0.771875     16      0\n",
      "========================================================================================\n",
      "Cluster 1\n",
      "             Quantity  UnitPrice  Count  Label\n",
      "CustomerID                                    \n",
      "12347       13.505495   2.644011    182      1\n",
      "12348       75.516129   5.764839     31      1\n",
      "12349        8.643836   8.289041     73      1\n",
      "12350       11.588235   3.841176     17      1\n",
      "12352        6.305882  15.930706     85      1\n",
      "12354        9.137931   4.503793     58      1\n",
      "12355       18.461538   4.203846     13      1\n",
      "12356       26.966102   3.201186     59      1\n",
      "12357       20.671756   3.348626    131      1\n",
      "12358       13.052632   8.274211     19      1\n",
      "12360        9.031008   3.549690    129      1\n",
      "12361        9.100000   3.335000     10      1\n",
      "12363       17.739130   2.311739     23      1\n",
      "12364       17.717647   1.910235     85      1\n",
      "12365        7.909091  17.150455     22      1\n",
      "12367       15.727273   3.200000     11      1\n",
      "12370       14.089820   2.800299    167      1\n",
      "12371        9.380952   3.874286     63      1\n",
      "12372       15.269231   3.001346     52      1\n",
      "12373       14.071429   4.582143     14      1\n",
      "12374       10.363636   4.219697     33      1\n",
      "12375       10.470588   6.912941     17      1\n",
      "12377       12.259740   2.718831     77      1\n",
      "12379       10.175000   2.866250     40      1\n",
      "12380       10.836538   3.378654    104      1\n",
      "12381        9.287356   4.683218     87      1\n",
      "12383       15.474747   3.086970     99      1\n",
      "12384        4.666667   7.879259     27      1\n",
      "12386       35.400000   2.391000     10      1\n",
      "12388       14.620000   2.777700    100      1\n",
      "...               ...        ...    ...    ...\n",
      "18224        6.900000   3.060000     10      1\n",
      "18228        7.933333   3.987667     30      1\n",
      "18229       15.170732   4.626585    164      1\n",
      "18230       15.302326   2.191628     86      1\n",
      "18231        6.620968   3.765484    124      1\n",
      "18232        8.162162   3.724865     37      1\n",
      "18235       15.173077   2.146442    104      1\n",
      "18236        8.224490   3.363265     49      1\n",
      "18237       10.196721   2.957705     61      1\n",
      "18239        9.034091   2.871932     88      1\n",
      "18241       10.105769   3.253750    104      1\n",
      "18242       13.038462   3.279872     78      1\n",
      "18245       10.217143   2.584400    175      1\n",
      "18248       10.872340   4.105745     47      1\n",
      "18250        9.476190   3.805714     21      1\n",
      "18252        2.438776   3.129082     98      1\n",
      "18257        8.822034   3.403644    118      1\n",
      "18259       17.000000   3.259524     42      1\n",
      "18260       11.029851   3.507015    134      1\n",
      "18261        6.952381   3.082857     21      1\n",
      "18262       14.000000   1.123077     13      1\n",
      "18263       24.065574   0.959508     61      1\n",
      "18265        6.760870   5.246522     46      1\n",
      "18270        9.181818   3.672727     11      1\n",
      "18272       12.349398   2.294639    166      1\n",
      "18274        8.000000   3.671818     11      1\n",
      "18276       13.285714   2.482143     14      1\n",
      "18280        4.500000   4.765000     10      1\n",
      "18282        8.583333   5.199167     12      1\n",
      "18287       22.657143   1.493571     70      1\n",
      "\n",
      "[3274 rows x 4 columns]\n",
      "========================================================================================\n",
      "Cluster 2\n",
      "            Quantity  UnitPrice  Count  Label\n",
      "CustomerID                                   \n",
      "15749         1802.8      3.044     10      2\n",
      "========================================================================================\n",
      "Cluster 3\n",
      "              Quantity  UnitPrice  Count  Label\n",
      "CustomerID                                     \n",
      "12744        23.608108  58.333288    222      3\n",
      "17940       513.421053  98.528947     19      3\n",
      "========================================================================================\n",
      "Cluster 4\n",
      "              Quantity  UnitPrice  Count  Label\n",
      "CustomerID                                     \n",
      "12359         6.540323   8.620403    248      4\n",
      "12362         8.379699   3.940940    266      4\n",
      "12378        11.547945   2.997443    219      4\n",
      "12415       108.366947   2.937087    714      4\n",
      "12428        12.027211   4.627415    294      4\n",
      "12431        12.365957   3.785064    235      4\n",
      "12433        26.359524   2.192738    420      4\n",
      "12451        18.573446   2.450085    354      4\n",
      "12471        17.852174   4.300370    460      4\n",
      "12472        12.235988   2.397670    339      4\n",
      "12474        11.431604   2.865660    424      4\n",
      "12476        10.334764   4.831030    233      4\n",
      "12477        12.176667   4.383200    300      4\n",
      "12481        15.225806   3.414977    217      4\n",
      "12484         6.332370   3.126098    346      4\n",
      "12490        12.506122   2.692857    245      4\n",
      "12517         4.827465   2.352746    284      4\n",
      "12539         7.571429   4.176520    273      4\n",
      "12540        13.985356   3.847050    478      4\n",
      "12567         9.652466   3.408475    446      4\n",
      "12583        20.485830   3.103603    247      4\n",
      "12597        10.854369   3.942087    206      4\n",
      "12621        15.931478   2.892291    467      4\n",
      "12626        11.744898   2.821054    294      4\n",
      "12627        11.965217   2.937913    230      4\n",
      "12637         7.697436   2.658308    390      4\n",
      "12662         8.947826   3.206478    230      4\n",
      "12681        11.811912   3.152915    638      4\n",
      "12682        10.619048   3.750152    525      4\n",
      "12683        14.497093   2.719157    344      4\n",
      "...                ...        ...    ...    ...\n",
      "17769         6.006452   3.060871    310      4\n",
      "17777         2.613402   1.647010    194      4\n",
      "17799         4.308824   2.532770    408      4\n",
      "17813         2.129380   3.368464    371      4\n",
      "17827         5.668182   2.378364    220      4\n",
      "17850         5.835017   3.960370    297      4\n",
      "17861         8.954955   2.421802    222      4\n",
      "17865        15.559459   2.763676    370      4\n",
      "17870         5.021505   2.214516    279      4\n",
      "17920         3.614943   2.332974    696      4\n",
      "17954         4.606186   1.942103    485      4\n",
      "17961         2.248996   3.272249    249      4\n",
      "17965         4.729483   3.488237    329      4\n",
      "17975         5.297297   3.168682    296      4\n",
      "18041         8.091102   1.968157    472      4\n",
      "18055         6.819444   4.021556    360      4\n",
      "18069         2.789362   2.201787    470      4\n",
      "18077         8.273128   1.824978    227      4\n",
      "18096         3.873239   2.287653    213      4\n",
      "18102       148.779582   4.503295    431      4\n",
      "18109         9.542793   4.930248    444      4\n",
      "18116         2.243386   2.370079    378      4\n",
      "18122         3.390110   2.339505    364      4\n",
      "18125         4.102041   2.225459    196      4\n",
      "18145        11.877828   1.801448    221      4\n",
      "18204         6.000000   2.549300    200      4\n",
      "18223        10.838235   2.967500    272      4\n",
      "18225        11.970480   2.555166    271      4\n",
      "18226        14.322314   2.185207    242      4\n",
      "18283         1.847884   1.614987    756      4\n",
      "\n",
      "[434 rows x 4 columns]\n"
     ]
    }
   ],
   "source": [
    "data1_['Label'] = label1\n",
    "print(\"Cluster 0\")\n",
    "print(data1_[data1_['Label']==0])\n",
    "print(\"========================================================================================\")\n",
    "print(\"Cluster 1\")\n",
    "print(data1_[data1_['Label']==1])\n",
    "print(\"========================================================================================\")\n",
    "print(\"Cluster 2\")\n",
    "print(data1_[data1_['Label']==2])\n",
    "print(\"========================================================================================\")\n",
    "print(\"Cluster 3\")\n",
    "print(data1_[data1_['Label']==3])\n",
    "print(\"========================================================================================\")\n",
    "print(\"Cluster 4\")\n",
    "print(data1_[data1_['Label']==4])"
   ]
  },
  {
   "cell_type": "code",
   "execution_count": 22,
   "metadata": {},
   "outputs": [],
   "source": [
    "from sklearn.manifold import TSNE\n",
    "\n",
    "mod = TSNE(learning_rate=50)\n",
    "\n"
   ]
  },
  {
   "cell_type": "code",
   "execution_count": 23,
   "metadata": {},
   "outputs": [],
   "source": [
    "samples = data1_[['Quantity', 'UnitPrice', 'Count']].values"
   ]
  },
  {
   "cell_type": "code",
   "execution_count": 24,
   "metadata": {},
   "outputs": [],
   "source": [
    "tsne_feature = mod.fit_transform(samples)"
   ]
  },
  {
   "cell_type": "code",
   "execution_count": 27,
   "metadata": {},
   "outputs": [
    {
     "data": {
      "image/png": "[encoded data removed]",
      "text/plain": [
       "<matplotlib.figure.Figure at 0x1bd9015c5c0>"
      ]
     },
     "metadata": {},
     "output_type": "display_data"
    }
   ],
   "source": [
    "plt.scatter(tsne_feature[:,0], tsne_feature[:,1], c=label1)\n",
    "plt.axis('off')\n",
    "plt.show()"
   ]
  },
  {
   "cell_type": "code",
   "execution_count": 28,
   "metadata": {},
   "outputs": [
    {
     "name": "stdout",
     "output_type": "stream",
     "text": [
      "<class 'pandas.core.frame.DataFrame'>\n",
      "Index: 38 entries, Australia to Unspecified\n",
      "Data columns (total 3 columns):\n",
      "Quantity     38 non-null float64\n",
      "UnitPrice    38 non-null float64\n",
      "Count        38 non-null int64\n",
      "dtypes: float64(2), int64(1)\n",
      "memory usage: 1.2+ KB\n",
      "None\n",
      "=================================================================\n",
      "        Quantity  UnitPrice          Count\n",
      "count  38.000000  38.000000      38.000000\n",
      "mean   20.565899   5.947682   13950.078947\n",
      "std    20.946950   9.338847   78532.279915\n",
      "min     6.157895   2.047383       9.000000\n",
      "25%    10.761310   3.203275     120.250000\n",
      "50%    13.419989   4.214697     355.000000\n",
      "75%    18.237049   4.858326    1154.250000\n",
      "max    84.934718  58.333288  485122.000000\n"
     ]
    }
   ],
   "source": [
    "data2 = dfdrop.groupby('Country')['Quantity','UnitPrice'].mean()\n",
    "data2['Count'] = dfdrop.groupby('Country').count().UnitPrice\n",
    "print(data2.info())\n",
    "print(\"=================================================================\")\n",
    "print(data2.describe())"
   ]
  },
  {
   "cell_type": "code",
   "execution_count": null,
   "metadata": {},
   "outputs": [],
   "source": []
  },
  {
   "cell_type": "code",
   "execution_count": 29,
   "metadata": {},
   "outputs": [
    {
     "data": {
      "image/png": "[encoded data removed]",
      "text/plain": [
       "<matplotlib.figure.Figure at 0x1bd8e3489e8>"
      ]
     },
     "metadata": {},
     "output_type": "display_data"
    }
   ],
   "source": [
    "sns.pairplot(data2)\n",
    "plt.show()"
   ]
  },
  {
   "cell_type": "code",
   "execution_count": 30,
   "metadata": {},
   "outputs": [],
   "source": [
    "k = np.arange(2, 11)\n",
    "inertias = []\n",
    "data2N = normaliz.fit_transform(data2)\n",
    "for kn in k:\n",
    "    mod = KMeans(n_clusters=kn)\n",
    "    label = mod.fit_predict(data2N)\n",
    "    inertias.append(mod.inertia_)"
   ]
  },
  {
   "cell_type": "code",
   "execution_count": 31,
   "metadata": {},
   "outputs": [
    {
     "data": {
      "image/png": "[encoded data removed]",
      "text/plain": [
       "<matplotlib.figure.Figure at 0x1bd8cd75278>"
      ]
     },
     "metadata": {},
     "output_type": "display_data"
    }
   ],
   "source": [
    "plt.plot(k, inertias, '-o')\n",
    "plt.show()"
   ]
  },
  {
   "cell_type": "code",
   "execution_count": 32,
   "metadata": {},
   "outputs": [
    {
     "data": {
      "image/png": "[encoded data removed]",
      "text/plain": [
       "<matplotlib.figure.Figure at 0x1bd91d194a8>"
      ]
     },
     "metadata": {},
     "output_type": "display_data"
    }
   ],
   "source": [
    "mod2 = TSNE(learning_rate=100)\n",
    "\n",
    "country_mod = KMeans(n_clusters=4)\n",
    "country_label = country_mod.fit_predict(data2N)\n",
    "\n",
    "tsne_country = mod2.fit_transform(data2.values)\n",
    "\n",
    "plt.scatter(tsne_country[:,0], tsne_country[:,1], c=country_label)\n",
    "plt.show()"
   ]
  },
  {
   "cell_type": "code",
   "execution_count": 33,
   "metadata": {},
   "outputs": [
    {
     "name": "stdout",
     "output_type": "stream",
     "text": [
      "0    32\n",
      "1     4\n",
      "3     1\n",
      "2     1\n",
      "dtype: int64\n"
     ]
    }
   ],
   "source": [
    "print(pd.Series(country_label).value_counts())"
   ]
  },
  {
   "cell_type": "markdown",
   "metadata": {},
   "source": [
    "I think I fail to find pattern for clustering, so I willl start again.... doing different feature engeenering and more cleaning, but still use dfdrop (which is no cancel transaction)\n",
    "\n",
    "In this new analysis, I will segment market based on what they need (they buy) and their purchasing power. so the feature I will use in the analysis are :\n",
    "1. StockCode, but I will group the product with the similar code. and I don't want unique product that appear only 1, better to combine it with similar product, to make easy clustering.\n",
    "2. I will use feature multiplication between UnitPrice and Quantity, which is that's mean purchasing power of Customer.\n",
    "3. I will use feature about how many time they bought (frequenty buying)"
   ]
  },
  {
   "cell_type": "code",
   "execution_count": 34,
   "metadata": {},
   "outputs": [
    {
     "name": "stdout",
     "output_type": "stream",
     "text": [
      "<class 'pandas.core.frame.DataFrame'>\n",
      "Int64Index: 530103 entries, 0 to 541908\n",
      "Data columns (total 8 columns):\n",
      "InvoiceNo      530103 non-null object\n",
      "StockCode      530103 non-null object\n",
      "Description    530103 non-null object\n",
      "Quantity       530103 non-null int64\n",
      "InvoiceDate    530103 non-null datetime64[ns]\n",
      "UnitPrice      530103 non-null float64\n",
      "CustomerID     397884 non-null float64\n",
      "Country        530103 non-null object\n",
      "dtypes: datetime64[ns](1), float64(2), int64(1), object(4)\n",
      "memory usage: 36.4+ MB\n"
     ]
    }
   ],
   "source": [
    "dfdrop.info()"
   ]
  },
  {
   "cell_type": "code",
   "execution_count": 35,
   "metadata": {},
   "outputs": [],
   "source": [
    "data3 = dfdrop.reset_index().drop(['index'], axis=1)\n",
    "\n",
    "def slicing(value) :\n",
    "    if type(value) == np.int :\n",
    "        return str(value)[:3]\n",
    "    return value\n",
    "              "
   ]
  },
  {
   "cell_type": "code",
   "execution_count": 36,
   "metadata": {},
   "outputs": [
    {
     "name": "stdout",
     "output_type": "stream",
     "text": [
      "262\n"
     ]
    }
   ],
   "source": [
    "print(data3.StockCode.apply(slicing).value_counts().nunique())\n",
    "data3['StockCode'] = data3.StockCode.apply(slicing)"
   ]
  },
  {
   "cell_type": "code",
   "execution_count": 37,
   "metadata": {},
   "outputs": [],
   "source": [
    "data3['PowerPurchas'] = data3['UnitPrice'] * data3['Quantity']"
   ]
  },
  {
   "cell_type": "code",
   "execution_count": 38,
   "metadata": {},
   "outputs": [],
   "source": [
    "product = pd.get_dummies(data3['StockCode'])"
   ]
  },
  {
   "cell_type": "code",
   "execution_count": 39,
   "metadata": {},
   "outputs": [],
   "source": [
    "country = pd.get_dummies(data3['Country'])"
   ]
  },
  {
   "cell_type": "code",
   "execution_count": 40,
   "metadata": {},
   "outputs": [],
   "source": [
    "data3 = data3.drop(['InvoiceNo', 'StockCode', 'InvoiceDate', 'Country', 'Description'], axis=1)"
   ]
  },
  {
   "cell_type": "code",
   "execution_count": 41,
   "metadata": {},
   "outputs": [],
   "source": [
    "data3 = pd.concat([data3, country, product], axis=1)"
   ]
  },
  {
   "cell_type": "code",
   "execution_count": null,
   "metadata": {},
   "outputs": [],
   "source": [
    "data3 = data3.groupby('CustomerID').sum()"
   ]
  },
  {
   "cell_type": "code",
   "execution_count": null,
   "metadata": {},
   "outputs": [],
   "source": [
    "data3.to_csv('data3.csv')"
   ]
  }
 ],
 "metadata": {
  "kernelspec": {
   "display_name": "Python 3",
   "language": "python",
   "name": "python3"
  },
  "language_info": {
   "codemirror_mode": {
    "name": "ipython",
    "version": 3
   },
   "file_extension": ".py",
   "mimetype": "text/x-python",
   "name": "python",
   "nbconvert_exporter": "python",
   "pygments_lexer": "ipython3",
   "version": "3.6.4"
  }
 },
 "nbformat": 4,
 "nbformat_minor": 2
}
